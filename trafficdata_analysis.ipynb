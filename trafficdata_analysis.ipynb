{
 "cells": [
  {
   "cell_type": "code",
   "execution_count": 5,
   "metadata": {},
   "outputs": [
    {
     "name": "stdout",
     "output_type": "stream",
     "text": [
      "                                             event_type   Count\n",
      "0                                          construction  517705\n",
      "1                                                delays  444426\n",
      "2                                              accident  281681\n",
      "3                                              incident  170161\n",
      "4                                              roadwork  144546\n",
      "5                                      disabled vehicle  128397\n",
      "6                           road maintenance operations   51772\n",
      "7                                          Construction   38187\n",
      "8                                         special event   35748\n",
      "9                         accident with property damage   31975\n",
      "10                                        heavy traffic   22841\n",
      "11                                             Roadwork   19532\n",
      "12                                    pockets of volume   18956\n",
      "13                                 operational activity   16774\n",
      "14                                          bridge work   15377\n",
      "15                               accident with injuries   15026\n",
      "16                                    debris on roadway   13448\n",
      "17                                    construction work   10550\n",
      "18                                    road construction   10233\n",
      "19                                   equipment problems    9828\n",
      "20                                             closures    9417\n",
      "21                        bridge maintenance operations    8617\n",
      "22                                         utility work    8608\n",
      "23                                     earlier incident    7565\n",
      "24                                   scheduled roadwork    7340\n",
      "25                                             flooding    7077\n",
      "26                                          Bridge Work    6747\n",
      "27                             disabled tractor trailer    6674\n",
      "28                                      weather related    6529\n",
      "29                                drainage improvements    6528\n",
      "...                                                 ...     ...\n",
      "3284    concert,traffic heavier than normal,long delays       1\n",
      "3285       injury accident,incident cleared,long delays       1\n",
      "3286                              incident,storm damage       1\n",
      "3287                           incident,stalled vehicle       1\n",
      "3288                          congestion,other incident       1\n",
      "3289  incident,single line traffic alternating direc...       1\n",
      "3290  incident,single line traffic alternating direc...       1\n",
      "3291  incident,single line traffic alternating direc...       1\n",
      "3292         construction cancelled, guard rail repairs       1\n",
      "3293  collapsed sewer grate, police department activity       1\n",
      "3294                    collapsed sewer grate, flooding       1\n",
      "3295  installation of sign structure, overhead sign ...       1\n",
      "3296      jack-knifed tractor trailer, overturned truck       1\n",
      "3297                cctv repairs, drainage improvements       1\n",
      "3298                    cctv repairs, paving operations       1\n",
      "3299  jack-knifed tractor trailer, street light knoc...       1\n",
      "3300  jack-knifed tractor trailer, split tractor tra...       1\n",
      "3301                                 center lane closed       1\n",
      "3302                                         checkpoint       1\n",
      "3303    jack-knifed tractor trailer, overturned vehicle       1\n",
      "3304                 jack-knifed tractor trailer, other       1\n",
      "3305                        test message, traffic shift       1\n",
      "3306                            circus, awards ceremony       1\n",
      "3307  intersection improvements, ramp widening, road...       1\n",
      "3308           intersection improvements, line striping       1\n",
      "3309              utility work, watermain break repairs       1\n",
      "3310  installation of traffic monitoring systems, li...       1\n",
      "3311  installation of traffic management systems, st...       1\n",
      "3312                                    collapsed sewer       1\n",
      "3313           speed restriction, outside agency assist       1\n",
      "\n",
      "[3314 rows x 2 columns]\n"
     ]
    }
   ],
   "source": [
    "import pandas as pd\n",
    "from sodapy import Socrata\n",
    "import statsmodels.api as sm\n",
    "import matplotlib.pyplot as plt\n",
    "\n",
    "#MY_APP_TOKEN = '<replace with your token>'\n",
    "client = Socrata(\"data.ny.gov\", app_token=MY_APP_TOKEN)\n",
    "\n",
    "results = client.get(\"ah74-pg4w\", limit=2400000)\n",
    "results_df = pd.DataFrame.from_records(results)\n",
    "\n",
    "print(results_df.groupby(['event_type']).size().sort_values(ascending=False).reset_index(name ='Count'))"
   ]
  }
 ],
 "metadata": {
  "kernelspec": {
   "display_name": "Python 3",
   "language": "python",
   "name": "python3"
  },
  "language_info": {
   "codemirror_mode": {
    "name": "ipython",
    "version": 3
   },
   "file_extension": ".py",
   "mimetype": "text/x-python",
   "name": "python",
   "nbconvert_exporter": "python",
   "pygments_lexer": "ipython3",
   "version": "3.7.3"
  }
 },
 "nbformat": 4,
 "nbformat_minor": 2
}
